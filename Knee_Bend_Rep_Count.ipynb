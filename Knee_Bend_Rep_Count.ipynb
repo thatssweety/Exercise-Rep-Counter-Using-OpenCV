{
  "nbformat": 4,
  "nbformat_minor": 0,
  "metadata": {
    "colab": {
      "provenance": [],
      "mount_file_id": "12ZQHIrhcSFGBoVS4oW4q9jV02_Biltj9",
      "authorship_tag": "ABX9TyOLCaPf9PoAWHLOMbUtCe5R",
      "include_colab_link": true
    },
    "kernelspec": {
      "name": "python3",
      "display_name": "Python 3"
    },
    "language_info": {
      "name": "python"
    }
  },
  "cells": [
    {
      "cell_type": "markdown",
      "metadata": {
        "id": "view-in-github",
        "colab_type": "text"
      },
      "source": [
        "<a href=\"https://colab.research.google.com/github/thatssweety/Exercise-Rep-Counter-Using-OpenCV/blob/main/Knee_Bend_Rep_Count.ipynb\" target=\"_parent\"><img src=\"https://colab.research.google.com/assets/colab-badge.svg\" alt=\"Open In Colab\"/></a>"
      ]
    },
    {
      "cell_type": "code",
      "source": [
        "!pip install mediapipe"
      ],
      "metadata": {
        "id": "qSLSxiN2FAIL"
      },
      "execution_count": null,
      "outputs": []
    },
    {
      "cell_type": "code",
      "execution_count": null,
      "metadata": {
        "id": "kd_KIr7n_LxU"
      },
      "outputs": [],
      "source": [
        "import cv2\n",
        "from cv2 import destroyAllWindows\n",
        "import mediapipe as mp\n",
        "import matplotlib.pyplot as plt\n",
        "import numpy as np\n",
        "from google.colab.patches import cv2_imshow\n",
        "mp_drawing = mp.solutions.drawing_utils\n",
        "mp_drawing_styles = mp.solutions.drawing_styles\n",
        "mp_pose = mp.solutions.pose"
      ]
    },
    {
      "cell_type": "code",
      "source": [
        "cap = cv2.VideoCapture(\"/content/drive/MyDrive/Knee bend/KneeBendVideo.mp4\")\n"
      ],
      "metadata": {
        "id": "9_5wnRxtFAz6"
      },
      "execution_count": null,
      "outputs": []
    },
    {
      "cell_type": "code",
      "source": [
        "def calculate_angle(a,b,c):\n",
        "    a = np.array(a) # First\n",
        "    b = np.array(b) # Mid\n",
        "    c = np.array(c) # End\n",
        "    \n",
        "    radians = np.arctan2(c[1]-b[1], c[0]-b[0]) - np.arctan2(a[1]-b[1], a[0]-b[0])\n",
        "    angle = np.abs(radians*180.0/np.pi)\n",
        "    \n",
        "    if angle >180.0:\n",
        "        angle = 360-angle\n",
        "        \n",
        "    return angle"
      ],
      "metadata": {
        "id": "8KyZU2zv_Szf"
      },
      "execution_count": null,
      "outputs": []
    },
    {
      "cell_type": "code",
      "source": [
        "stretch_position=0;\n",
        "bend_position=0;\n"
      ],
      "metadata": {
        "id": "xrZzovGhLUDq"
      },
      "execution_count": null,
      "outputs": []
    },
    {
      "cell_type": "code",
      "source": [
        "\n",
        "counter = 0 \n",
        "stage = None\n",
        "width = int(cap.get(cv2.CAP_PROP_FRAME_WIDTH) + 0.5)\n",
        "height = int(cap.get(cv2.CAP_PROP_FRAME_HEIGHT) + 0.5)\n",
        "fps = cap.get(cv2.CAP_PROP_FPS)\n",
        "fourcc = cv2.VideoWriter_fourcc(*'MP4V')\n",
        "out = cv2.VideoWriter('output_video_.mp4', fourcc, 24,(int(cap.get(3)), int(cap.get(4))))\n",
        "\n",
        "with mp_pose.Pose(min_detection_confidence=0.5, min_tracking_confidence=0.5) as pose:\n",
        "    while cap.isOpened():\n",
        "        ret, frame = cap.read()\n",
        "        if frame is None:\n",
        "            print('breaking')\n",
        "            cap.release()\n",
        "            out.release()\n",
        "            cv2.destroyAllWindows()\n",
        "            break;\n",
        "        \n",
        "        # Recolor image to RGB\n",
        "        image = cv2.cvtColor(frame, cv2.COLOR_BGR2RGB)\n",
        "        image.flags.writeable = False\n",
        "      \n",
        "        # Make detection\n",
        "        results = pose.process(image)\n",
        "    \n",
        "        # Recolor back to BGR\n",
        "        image.flags.writeable = True\n",
        "        image = cv2.cvtColor(image, cv2.COLOR_RGB2BGR)\n",
        "        \n",
        "        # Extract landmarks\n",
        "        try:\n",
        "            landmarks = results.pose_landmarks.landmark\n",
        "            \n",
        "            # Get coordinates\n",
        "            hip = [landmarks[mp_pose.PoseLandmark.RIGHT_HIP.value].x,landmarks[mp_pose.PoseLandmark.RIGHT_HIP.value].y]\n",
        "            knee = [landmarks[mp_pose.PoseLandmark.RIGHT_KNEE.value].x,landmarks[mp_pose.PoseLandmark.RIGHT_KNEE.value].y]\n",
        "            ankle = [landmarks[mp_pose.PoseLandmark.RIGHT_ANKLE.value].x,landmarks[mp_pose.PoseLandmark.RIGHT_ANKLE.value].y]\n",
        "            \n",
        "            angle_knee = calculate_angle(hip, knee, ankle) #Knee joint angle\n",
        "            angle_knee = round(angle_knee,2)\n",
        "            \n",
        "            knee_angle = 180-angle_knee\n",
        "            \n",
        "            \n",
        "           \n",
        "            cv2.putText(image, str(angle_knee), \n",
        "                           tuple(np.multiply(knee, [900, 800]).astype(int)), \n",
        "                           cv2.FONT_HERSHEY_SIMPLEX, 0.8, (255,255,255), 2, cv2.LINE_AA\n",
        "                                )\n",
        "           \n",
        "            if angle_knee > 165:\n",
        "                stage = \"up\"\n",
        "                stretch_position+=1;\n",
        "                bend_position=0;\n",
        "            if angle_knee <= 120 and stage =='up':\n",
        "                stage=\"down\"\n",
        "                counter +=1\n",
        "                print(counter)\n",
        "                stretch_position=0;\n",
        "                bend_position+=1;\n",
        "            good_time = (1 / fps) * bend_position\n",
        "            bad_time =  (1 / fps) * stretch_position\n",
        "            if good_time < 8 and bad_time > 8:\n",
        "              cv2.putText(image,str( 'Keep your knee bent'), (100,400), cv2.FONT_HERSHEY_SIMPLEX, 0.7, (50,50,255), 2)    \n",
        "        except:\n",
        "            cv2.putText(image,str(counter), (400,400), cv2.FONT_HERSHEY_SIMPLEX, 2, (50,50,255), 2)\n",
        "            counter=0;\n",
        "            pass\n",
        "        \n",
        "        cv2.rectangle(image, (20,20), (250,120), (0,0,0), -1)\n",
        "        cv2.putText(image, \"Repetition : \" + str(counter), \n",
        "                    (30,60), \n",
        "                    cv2.FONT_HERSHEY_SIMPLEX, 0.5, (255,255,255), 2, cv2.LINE_AA)\n",
        "       \n",
        "        cv2.putText(image, \"Knee-joint angle : \" + str(angle_knee), \n",
        "                    (30,100), \n",
        "                    cv2.FONT_HERSHEY_SIMPLEX, 0.5, (255,255,255), 2, cv2.LINE_AA)\n",
        "        \n",
        "        mp_drawing.draw_landmarks(image, results.pose_landmarks, mp_pose.POSE_CONNECTIONS,\n",
        "                                mp_drawing.DrawingSpec(color=(0,0,0), thickness=2, circle_radius=2), \n",
        "                                mp_drawing.DrawingSpec(color=(203,17,17), thickness=2, circle_radius=2) \n",
        "                                 ) \n",
        "        out.write(image)\n",
        "        #cv2_imshow(image)\n",
        "        if cv2.waitKey(10) & 0xFF == ord('q'):\n",
        "            cap.release()\n",
        "            out.release()\n",
        "            cv2.destroyAllWindows()\n",
        "         \n",
        "\n",
        "    cap.release()\n",
        "    out.release()\n",
        "    cv2.destroyAllWindows()\n",
        "    "
      ],
      "metadata": {
        "colab": {
          "base_uri": "https://localhost:8080/"
        },
        "id": "g-gy9iWP_bUR",
        "outputId": "f4a3b3d3-2e26-45a2-c4ee-564e97c9ade9"
      },
      "execution_count": null,
      "outputs": [
        {
          "output_type": "stream",
          "name": "stdout",
          "text": [
            "1\n",
            "2\n",
            "3\n",
            "4\n",
            "5\n",
            "1\n",
            "1\n",
            "2\n",
            "3\n",
            "4\n",
            "5\n",
            "6\n",
            "7\n",
            "8\n",
            "breaking\n"
          ]
        }
      ]
    }
  ]
}